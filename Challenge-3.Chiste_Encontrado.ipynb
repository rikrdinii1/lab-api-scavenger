{
 "cells": [
  {
   "cell_type": "code",
   "execution_count": 32,
   "metadata": {},
   "outputs": [],
   "source": [
    "from github import Github\n",
    "import re"
   ]
  },
  {
   "cell_type": "code",
   "execution_count": 33,
   "metadata": {},
   "outputs": [],
   "source": [
    "g=Github('129efaa431ec5f232ba18d816eaf88eb34c39701')"
   ]
  },
  {
   "cell_type": "code",
   "execution_count": 34,
   "metadata": {},
   "outputs": [],
   "source": [
    "url = 'ironhack-datalabs/scavenger'\n",
    "repo = g.get_repo(url)"
   ]
  },
  {
   "cell_type": "code",
   "execution_count": 35,
   "metadata": {},
   "outputs": [
    {
     "data": {
      "text/plain": [
       "[ContentFile(path=\".gitignore\"),\n",
       " ContentFile(path=\"15024\"),\n",
       " ContentFile(path=\"15534\"),\n",
       " ContentFile(path=\"17020\"),\n",
       " ContentFile(path=\"30351\"),\n",
       " ContentFile(path=\"40303\"),\n",
       " ContentFile(path=\"44639\"),\n",
       " ContentFile(path=\"45525\"),\n",
       " ContentFile(path=\"47222\"),\n",
       " ContentFile(path=\"47830\"),\n",
       " ContentFile(path=\"49418\"),\n",
       " ContentFile(path=\"50896\"),\n",
       " ContentFile(path=\"55417\"),\n",
       " ContentFile(path=\"55685\"),\n",
       " ContentFile(path=\"60224\"),\n",
       " ContentFile(path=\"64880\"),\n",
       " ContentFile(path=\"66032\"),\n",
       " ContentFile(path=\"68848\"),\n",
       " ContentFile(path=\"70751\"),\n",
       " ContentFile(path=\"70985\"),\n",
       " ContentFile(path=\"88596\"),\n",
       " ContentFile(path=\"89046\"),\n",
       " ContentFile(path=\"89338\"),\n",
       " ContentFile(path=\"91701\"),\n",
       " ContentFile(path=\"97881\"),\n",
       " ContentFile(path=\"98750\")]"
      ]
     },
     "execution_count": 35,
     "metadata": {},
     "output_type": "execute_result"
    }
   ],
   "source": [
    "contents = repo.get_contents('')\n",
    "contents"
   ]
  },
  {
   "cell_type": "code",
   "execution_count": 36,
   "metadata": {},
   "outputs": [],
   "source": [
    "paths = list()\n",
    "\n",
    "for contenido in contents:\n",
    "    if contenido.path != '.gitignore':\n",
    "        carpeta = repo.get_contents(contenido.path)\n",
    "        for elemento in carpeta:\n",
    "            if elemento.path.endswith('scavengerhunt'):\n",
    "                paths.append(elemento.path)"
   ]
  },
  {
   "cell_type": "code",
   "execution_count": 37,
   "metadata": {},
   "outputs": [],
   "source": [
    "paths.sort(key=lambda x: re.findall(\"\\..*\",x))"
   ]
  },
  {
   "cell_type": "code",
   "execution_count": 38,
   "metadata": {},
   "outputs": [
    {
     "data": {
      "text/plain": [
       "['98750/.0001.scavengerhunt',\n",
       " '88596/.0002.scavengerhunt',\n",
       " '60224/.0003.scavengerhunt',\n",
       " '68848/.0004.scavengerhunt',\n",
       " '44639/.0005.scavengerhunt',\n",
       " '15024/.0006.scavengerhunt',\n",
       " '17020/.0007.scavengerhunt',\n",
       " '15534/.0008.scavengerhunt',\n",
       " '97881/.0009.scavengerhunt',\n",
       " '47830/.0010.scavengerhunt',\n",
       " '50896/.0011.scavengerhunt',\n",
       " '15534/.0012.scavengerhunt',\n",
       " '89338/.0013.scavengerhunt',\n",
       " '49418/.0014.scavengerhunt',\n",
       " '91701/.0015.scavengerhunt',\n",
       " '47222/.0016.scavengerhunt',\n",
       " '70985/.0017.scavengerhunt',\n",
       " '45525/.0018.scavengerhunt',\n",
       " '70751/.0019.scavengerhunt',\n",
       " '55685/.0020.scavengerhunt',\n",
       " '30351/.0021.scavengerhunt',\n",
       " '40303/.0022.scavengerhunt',\n",
       " '55417/.0023.scavengerhunt',\n",
       " '47222/.0024.scavengerhunt']"
      ]
     },
     "execution_count": 38,
     "metadata": {},
     "output_type": "execute_result"
    }
   ],
   "source": [
    "paths"
   ]
  },
  {
   "cell_type": "code",
   "execution_count": 42,
   "metadata": {},
   "outputs": [
    {
     "name": "stdout",
     "output_type": "stream",
     "text": [
      "b'In\\n'\n",
      "b'data\\n'\n",
      "b'science,\\n'\n",
      "b'80\\n'\n",
      "b'percent\\n'\n",
      "b'of\\n'\n",
      "b'time\\n'\n",
      "b'spent\\n'\n",
      "b'is\\n'\n",
      "b'preparing\\n'\n",
      "b'data,\\n'\n",
      "b'20\\n'\n",
      "b'percent\\n'\n",
      "b'of\\n'\n",
      "b'time\\n'\n",
      "b'is\\n'\n",
      "b'spent\\n'\n",
      "b'complaining\\n'\n",
      "b'about\\n'\n",
      "b'the\\n'\n",
      "b'need\\n'\n",
      "b'to\\n'\n",
      "b'prepare\\n'\n",
      "b'data.\\n'\n"
     ]
    }
   ],
   "source": [
    "for ruta in paths:\n",
    "    content = repo.get_contents(ruta)\n",
    "    print(content.decoded_content)"
   ]
  },
  {
   "cell_type": "code",
   "execution_count": null,
   "metadata": {},
   "outputs": [],
   "source": []
  }
 ],
 "metadata": {
  "kernelspec": {
   "display_name": "Python 3",
   "language": "python",
   "name": "python3"
  },
  "language_info": {
   "codemirror_mode": {
    "name": "ipython",
    "version": 3
   },
   "file_extension": ".py",
   "mimetype": "text/x-python",
   "name": "python",
   "nbconvert_exporter": "python",
   "pygments_lexer": "ipython3",
   "version": "3.8.5"
  }
 },
 "nbformat": 4,
 "nbformat_minor": 4
}
